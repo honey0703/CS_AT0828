{
 "cells": [
  {
   "cell_type": "code",
   "execution_count": 1,
   "metadata": {},
   "outputs": [],
   "source": [
    "import numpy as np\n",
    "import pandas as pd\n",
    "from sklearn.svm import SVC, SVR\n",
    "from sklearn.metrics import accuracy_score"
   ]
  },
  {
   "cell_type": "markdown",
   "metadata": {},
   "source": [
    "## Load data"
   ]
  },
  {
   "cell_type": "code",
   "execution_count": 2,
   "metadata": {},
   "outputs": [],
   "source": [
    "x_train = np.load(\"x_train.npy\")\n",
    "y_train = np.load(\"y_train.npy\")\n",
    "x_test = np.load(\"x_test.npy\")\n",
    "y_test = np.load(\"y_test.npy\")"
   ]
  },
  {
   "cell_type": "code",
   "execution_count": 3,
   "metadata": {},
   "outputs": [
    {
     "name": "stdout",
     "output_type": "stream",
     "text": [
      "(550, 300)\n"
     ]
    }
   ],
   "source": [
    "# 550 data with 300 features\n",
    "print(x_train.shape)"
   ]
  },
  {
   "cell_type": "code",
   "execution_count": 4,
   "metadata": {},
   "outputs": [
    {
     "name": "stdout",
     "output_type": "stream",
     "text": [
      "[0 1]\n"
     ]
    }
   ],
   "source": [
    "# It's a binary classification problem \n",
    "print(np.unique(y_train))"
   ]
  },
  {
   "cell_type": "markdown",
   "metadata": {},
   "source": [
    "## Question 1\n",
    "K-fold data partition: Implement the K-fold cross-validation function. Your function should take K as an argument and return a list of lists (len(list) should equal to K), which contains K elements. Each element is a list contains two parts, the first part contains the index of all training folds, e.g. Fold 2 to Fold 5 in split 1. The second part contains the index of validation fold, e.g. Fold 1 in  split 1"
   ]
  },
  {
   "cell_type": "code",
   "execution_count": 5,
   "metadata": {},
   "outputs": [],
   "source": [
    "# import random\n",
    "# seed = random.randrange(100000)\n",
    "# np.random.seed(seed)\n",
    "# print(\"Seed was:\", seed)\n",
    "\n",
    "def cross_validation(x_train, y_train, k=5):\n",
    "    y_train = np.resize(y_train, (1,y_train.shape[0]))   # resize y train for append x and y.\n",
    "    train = np.append(x_train, y_train.T, axis=1)          # append x and y together.\n",
    "    np.random.seed(59527)\n",
    "    train_rd = np.copy(train)                            # clone an array for shuttle.\n",
    "    np.random.shuffle(train_rd)                          # shuffle the train array.\n",
    "    kfold_data = []\n",
    "    total_num = x_train.shape[0]                         # total number of training set.\n",
    "    fold_num = int(total_num / k)                        # the number of dataset in a folder.\n",
    "    for i in range(k):                                   # cut k part and store in to kfold_data\n",
    "        valid_index = list(range(i*fold_num,(i+1)*fold_num))\n",
    "        valid_data = train_rd[i*fold_num:(i+1)*fold_num]\n",
    "        rest = np.delete(train_rd, valid_index, 0)\n",
    "        kfold_data.append([rest, valid_data])\n",
    "    return kfold_data"
   ]
  },
  {
   "cell_type": "code",
   "execution_count": 6,
   "metadata": {},
   "outputs": [],
   "source": [
    "kfold_data = cross_validation(x_train, y_train, k=10)\n",
    "assert len(kfold_data) == 10 # should contain 10 fold of data\n",
    "assert len(kfold_data[0]) == 2 # each element should contain train fold and validation fold\n",
    "assert kfold_data[0][1].shape[0] == 55 # The number of data in each validation fold should equal to training data divieded by K"
   ]
  },
  {
   "cell_type": "markdown",
   "metadata": {},
   "source": [
    "## example"
   ]
  },
  {
   "cell_type": "code",
   "execution_count": 7,
   "metadata": {},
   "outputs": [],
   "source": [
    "# from sklearn.model_selection import KFold\n",
    "\n",
    "# X = np.arange(20)\n",
    "# kf = KFold(n_splits=5, shuffle=True)\n",
    "# kfold_data= []\n",
    "# for i, (train_index, val_index) in enumerate(kf.split(X)):\n",
    "#     print(\"Split: %s, Training index: %s, Validation index: %s\" % (i+1, train_index, val_index))\n",
    "#     kfold_data.append([train_index, val_index])"
   ]
  },
  {
   "cell_type": "code",
   "execution_count": 8,
   "metadata": {},
   "outputs": [],
   "source": [
    "# assert len(kfold_data) == 5 # should contain 5 fold of data\n",
    "# assert len(kfold_data[0]) == 2 # each element should contains index of training fold and validation fold\n",
    "# assert kfold_data[0][1].shape[0] == 4 # The number of data in each validation fold should equal to training data divieded by K"
   ]
  },
  {
   "cell_type": "markdown",
   "metadata": {},
   "source": [
    "## Question 2\n",
    "Using sklearn.svm.SVC to train a classifier on the provided train set and conduct the grid search of “C” and “gamma” to find the best parameters by cross-validation."
   ]
  },
  {
   "cell_type": "code",
   "execution_count": 9,
   "metadata": {},
   "outputs": [],
   "source": [
    "# clf = SVC(C=1.0, kernel='rbf', gamma=0.01)"
   ]
  },
  {
   "cell_type": "code",
   "execution_count": 10,
   "metadata": {},
   "outputs": [],
   "source": [
    "## your code\n",
    "def gridsearch(kfold_data, C_list, gamma_list):\n",
    "    best_score = 0\n",
    "    grid_acc = []\n",
    "    for C in C_list:\n",
    "        gamma_acc = []\n",
    "        for gamma in gamma_list:\n",
    "            score_k = 0\n",
    "            for k in range(len(kfold_data)):\n",
    "                x_train_k = kfold_data[k][0][:,:-1]\n",
    "                y_train_k = kfold_data[k][0][:,-1]\n",
    "                x_valid_k = kfold_data[k][1][:,:-1]\n",
    "                y_valid_k = kfold_data[k][1][:,-1]\n",
    "                clf = SVC(C=C, kernel='rbf', gamma=gamma)\n",
    "                clf.fit(x_train_k, y_train_k)\n",
    "                score = clf.score(x_valid_k, y_valid_k)\n",
    "                score_k += score\n",
    "            score_final = score_k / len(kfold_data)\n",
    "            gamma_acc.append(score_final)\n",
    "            if score_final >= best_score:\n",
    "                best_score = score_final\n",
    "                best_parameters = [C, gamma]\n",
    "        grid_acc.append(gamma_acc)\n",
    "    grid_acc = np.asarray(grid_acc)\n",
    "    return best_parameters, best_score, grid_acc"
   ]
  },
  {
   "cell_type": "code",
   "execution_count": 11,
   "metadata": {},
   "outputs": [],
   "source": [
    "C_list = [10, 100, 1000, 10000]\n",
    "gamma_list = [0.0001, 0.001, 0.01]\n",
    "best_parameters, best_score, grid_acc = gridsearch(kfold_data, C_list, gamma_list)"
   ]
  },
  {
   "cell_type": "code",
   "execution_count": 12,
   "metadata": {},
   "outputs": [
    {
     "name": "stdout",
     "output_type": "stream",
     "text": [
      "0.8927272727272726\n",
      "[100, 0.0001]\n",
      "(4, 3)\n"
     ]
    }
   ],
   "source": [
    "print(best_score)\n",
    "print(best_parameters)\n",
    "print(grid_acc.shape)"
   ]
  },
  {
   "cell_type": "markdown",
   "metadata": {},
   "source": [
    "## Question 3\n",
    "Plot the grid search results of your SVM. The x, y represents the hyperparameters of “gamma” and “C”, respectively. And the color represents the average score of validation folds\n",
    "You reults should be look like this reference image below ![image](https://miro.medium.com/max/1296/1*wGWTup9r4cVytB5MOnsjdQ.png) "
   ]
  },
  {
   "cell_type": "code",
   "execution_count": 13,
   "metadata": {},
   "outputs": [
    {
     "data": {
      "image/png": "[encoded data removed]",
      "text/plain": [
       "<Figure size 432x288 with 2 Axes>"
      ]
     },
     "metadata": {
      "needs_background": "light"
     },
     "output_type": "display_data"
    }
   ],
   "source": [
    "import seaborn as sns\n",
    "import matplotlib.pylab as plt\n",
    "\n",
    "ax = sns.heatmap(grid_acc, annot=True, xticklabels=gamma_list, yticklabels=C_list, linewidth=0.3)\n",
    "ax.set(xlabel='Gamma Parameter', ylabel='C Parameter')\n",
    "plt.show()"
   ]
  },
  {
   "cell_type": "markdown",
   "metadata": {},
   "source": [
    "## Question 4\n",
    "Train your SVM model by the best parameters you found from question 2 on the whole training set and evaluate the performance on the test set."
   ]
  },
  {
   "cell_type": "code",
   "execution_count": 14,
   "metadata": {},
   "outputs": [
    {
     "data": {
      "text/plain": [
       "SVC(C=100, gamma=0.0001)"
      ]
     },
     "execution_count": 14,
     "metadata": {},
     "output_type": "execute_result"
    }
   ],
   "source": [
    "best_model = SVC(C=best_parameters[0], kernel='rbf', gamma=best_parameters[1])\n",
    "best_model.fit(x_train, y_train)"
   ]
  },
  {
   "cell_type": "code",
   "execution_count": 15,
   "metadata": {},
   "outputs": [
    {
     "name": "stdout",
     "output_type": "stream",
     "text": [
      "Accuracy score:  0.9010416666666666\n"
     ]
    }
   ],
   "source": [
    "y_pred = best_model.predict(x_test)\n",
    "print(\"Accuracy score: \", accuracy_score(y_pred, y_test))"
   ]
  }
 ],
 "metadata": {
  "kernelspec": {
   "display_name": "Python 3",
   "language": "python",
   "name": "python3"
  },
  "language_info": {
   "codemirror_mode": {
    "name": "ipython",
    "version": 3
   },
   "file_extension": ".py",
   "mimetype": "text/x-python",
   "name": "python",
   "nbconvert_exporter": "python",
   "pygments_lexer": "ipython3",
   "version": "3.8.8"
  }
 },
 "nbformat": 4,
 "nbformat_minor": 4
}
