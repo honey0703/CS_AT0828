{
 "cells": [
  {
   "cell_type": "markdown",
   "metadata": {},
   "source": [
    "## HW1: Linear Regression using Gradient Descent\n",
    "In hw1, you need to implement linear regression by using only numpy, then train your implemented model by the provided dataset and test the performance with testing data\n",
    "\n",
    "Please note that only **NUMPY** can be used to implement your model, you will get no points by simply calling sklearn.linear_model.LinearRegression"
   ]
  },
  {
   "cell_type": "code",
   "execution_count": 1,
   "metadata": {},
   "outputs": [],
   "source": [
    "import numpy as np \n",
    "import pandas as pd\n",
    "import matplotlib.pyplot as plt"
   ]
  },
  {
   "cell_type": "markdown",
   "metadata": {},
   "source": [
    "## Load data"
   ]
  },
  {
   "cell_type": "code",
   "execution_count": 2,
   "metadata": {},
   "outputs": [],
   "source": [
    "train_df = pd.read_csv(\"train_data.csv\")\n",
    "x_train, y_train = train_df['x_train'], train_df['y_train']"
   ]
  },
  {
   "cell_type": "code",
   "execution_count": 3,
   "metadata": {},
   "outputs": [
    {
     "data": {
      "text/plain": [
       "[<matplotlib.lines.Line2D at 0x7fc0cb16ceb0>]"
      ]
     },
     "execution_count": 3,
     "metadata": {},
     "output_type": "execute_result"
    },
    {
     "data": {
      "image/png": "[encoded data removed]",
      "text/plain": [
       "<Figure size 432x288 with 1 Axes>"
      ]
     },
     "metadata": {
      "needs_background": "light"
     },
     "output_type": "display_data"
    }
   ],
   "source": [
    "plt.plot(x_train, y_train, '.')"
   ]
  },
  {
   "cell_type": "markdown",
   "metadata": {},
   "source": [
    "## Train your model \n",
    "### Pseudo code:\n",
    "1. Random initialize the weights, intercepts of the linear model\n",
    "\n",
    "**for i in range(iteration)**\n",
    "\n",
    "    2. Feed foward the training data into the model, get the output prediction\n",
    "    3. Calculating training loss by Mean Square Error of predcition and ground truth data\n",
    "    4. Calculating the gradients\n",
    "    5. Updating the weights and intercepts by the gradients * learning rate \n",
    "    \n",
    "**End of training**"
   ]
  },
  {
   "cell_type": "code",
   "execution_count": 4,
   "metadata": {},
   "outputs": [],
   "source": [
    "# set up parameters\n",
    "learning_rate = 1e-3    \n",
    "n_iter = 10000\n",
    "\n",
    "# Original learning rate 1e-4 and iteration 100 are too small. I fine tune for getting a better result."
   ]
  },
  {
   "cell_type": "code",
   "execution_count": 5,
   "metadata": {},
   "outputs": [],
   "source": [
    "# calculate MSE loss\n",
    "def MSEloss(y, y_pred):\n",
    "    \n",
    "    num = len(y)\n",
    "    cost = (1/2)*np.sum(np.square(y_pred-y))/num\n",
    "    \n",
    "    return cost"
   ]
  },
  {
   "cell_type": "code",
   "execution_count": 6,
   "metadata": {},
   "outputs": [],
   "source": [
    "# calculate gradient \n",
    "def GD (x, y, theta, bias, learning_rate=1e-4, iterations=100):\n",
    "    \n",
    "    num = len(y)\n",
    "    cost_hist = np.zeros(iterations)\n",
    "    \n",
    "    for it in range(iterations):\n",
    "        # Feed forward to get y prediction\n",
    "        y_pred = theta*x + bias\n",
    "        \n",
    "        # Calculating training loss by Mean Square Error of predcition and ground truth data\n",
    "        cost_hist[it] = MSEloss(y, y_pred) \n",
    "        \n",
    "        # Calculate the gradient and update the weight(theta) and bias\n",
    "        theta = theta - (1/num)*learning_rate*(x.dot(y_pred - y))\n",
    "        bias = bias - (1/num)*learning_rate*sum(y_pred - y)\n",
    "        \n",
    "    return theta, bias, cost_hist"
   ]
  },
  {
   "cell_type": "code",
   "execution_count": 7,
   "metadata": {},
   "outputs": [
    {
     "name": "stdout",
     "output_type": "stream",
     "text": [
      "theta:  [0.81795508]\n",
      "bias:  [0.7845605]\n",
      "final cost:  0.13368200194267213\n"
     ]
    }
   ],
   "source": [
    "# main\n",
    "\n",
    "# random initialze the weight\n",
    "theta = np.random.rand(1)\n",
    "bias = np.random.rand(1)\n",
    "\n",
    "# get weight bias and cost history from gradient descent\n",
    "theta, bias, cost_hist = GD(x_train, y_train, theta, bias, learning_rate=learning_rate, iterations=n_iter)\n",
    "\n",
    "print('theta: ', theta)\n",
    "print('bias: ', bias)\n",
    "print('final cost: ', cost_hist[n_iter-1])"
   ]
  },
  {
   "cell_type": "code",
   "execution_count": 8,
   "metadata": {},
   "outputs": [
    {
     "data": {
      "text/plain": [
       "[<matplotlib.lines.Line2D at 0x7fc0cb263760>]"
      ]
     },
     "execution_count": 8,
     "metadata": {},
     "output_type": "execute_result"
    },
    {
     "data": {
      "image/png": "[encoded data removed]",
      "text/plain": [
       "<Figure size 432x288 with 1 Axes>"
      ]
     },
     "metadata": {
      "needs_background": "light"
     },
     "output_type": "display_data"
    }
   ],
   "source": [
    "# Problem 1. Plot a learning curve\n",
    "\n",
    "plt.xlabel('iterations')\n",
    "plt.ylabel('MSE loss')\n",
    "plt.plot(cost_hist)\n"
   ]
  },
  {
   "cell_type": "code",
   "execution_count": 9,
   "metadata": {},
   "outputs": [],
   "source": [
    "def model(x):\n",
    "    y_pred = theta*x + bias\n",
    "    return y_pred"
   ]
  },
  {
   "cell_type": "markdown",
   "metadata": {},
   "source": [
    "## Test the performance on the testing data\n",
    "Inference the test data (x_test) by your model and calculate the MSE of (y_test, y_pred)"
   ]
  },
  {
   "cell_type": "code",
   "execution_count": 10,
   "metadata": {},
   "outputs": [],
   "source": [
    "test_data = pd.read_csv(\"test_data.csv\")\n",
    "x_test, y_test = test_data['x_test'], test_data['y_test']"
   ]
  },
  {
   "cell_type": "code",
   "execution_count": 11,
   "metadata": {},
   "outputs": [],
   "source": [
    "y_pred = model(x_test)"
   ]
  },
  {
   "cell_type": "code",
   "execution_count": 12,
   "metadata": {},
   "outputs": [
    {
     "name": "stdout",
     "output_type": "stream",
     "text": [
      "test MSE loss:  0.03435229041306296\n"
     ]
    }
   ],
   "source": [
    "# Problem 2. Mean Square Error of prediction and grond truth.\n",
    "cost = MSEloss(y_test, y_pred)\n",
    "print ('test MSE loss: ', cost)"
   ]
  },
  {
   "cell_type": "code",
   "execution_count": 13,
   "metadata": {},
   "outputs": [
    {
     "name": "stdout",
     "output_type": "stream",
     "text": [
      "Weight:  [0.81795508] \n",
      "Intercepts:  [0.7845605]\n"
     ]
    }
   ],
   "source": [
    "# Problem 3. Weight and Intercepts.\n",
    "print ('Weight: ', theta, '\\nIntercepts: ', bias)"
   ]
  }
 ],
 "metadata": {
  "kernelspec": {
   "display_name": "Python 3",
   "language": "python",
   "name": "python3"
  },
  "language_info": {
   "codemirror_mode": {
    "name": "ipython",
    "version": 3
   },
   "file_extension": ".py",
   "mimetype": "text/x-python",
   "name": "python",
   "nbconvert_exporter": "python",
   "pygments_lexer": "ipython3",
   "version": "3.8.8"
  }
 },
 "nbformat": 4,
 "nbformat_minor": 4
}
