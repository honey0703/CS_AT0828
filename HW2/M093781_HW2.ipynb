{
 "cells": [
  {
   "cell_type": "markdown",
   "metadata": {},
   "source": [
    "## HW2: Linear Discriminant Analysis\n",
    "In hw2, you need to implement [Fisher’s linear discriminant](https://towardsdatascience.com/fishers-linear-discriminant-intuitively-explained-52a1ba79e1bb) by using only numpy, then train your implemented model by the provided dataset and test the performance with testing data\n",
    "\n",
    "Please note that only **NUMPY** can be used to implement your model, you will get **zero point** by simply calling `sklearn.discriminant_analysis.LinearDiscriminantAnalysis` "
   ]
  },
  {
   "cell_type": "markdown",
   "metadata": {},
   "source": [
    "## Load data"
   ]
  },
  {
   "cell_type": "code",
   "execution_count": 1,
   "metadata": {},
   "outputs": [],
   "source": [
    "import pandas as pd\n",
    "import numpy as np"
   ]
  },
  {
   "cell_type": "code",
   "execution_count": 2,
   "metadata": {},
   "outputs": [],
   "source": [
    "x_train = pd.read_csv(\"x_train.csv\").values\n",
    "y_train = pd.read_csv(\"y_train.csv\").values[:,0]\n",
    "x_test = pd.read_csv(\"x_test.csv\").values\n",
    "y_test = pd.read_csv(\"y_test.csv\").values[:,0]"
   ]
  },
  {
   "cell_type": "code",
   "execution_count": 3,
   "metadata": {},
   "outputs": [
    {
     "name": "stdout",
     "output_type": "stream",
     "text": [
      "(750, 2)\n",
      "(750,)\n",
      "(250, 2)\n",
      "(250,)\n"
     ]
    }
   ],
   "source": [
    "print(x_train.shape)\n",
    "print(y_train.shape)\n",
    "print(x_test.shape)\n",
    "print(y_test.shape)"
   ]
  },
  {
   "cell_type": "markdown",
   "metadata": {},
   "source": [
    "## 1. Compute the mean vectors mi, (i=1,2) of each 2 classes"
   ]
  },
  {
   "cell_type": "code",
   "execution_count": 4,
   "metadata": {},
   "outputs": [],
   "source": [
    "## Your code HERE\n",
    "# Seperate two classes\n",
    "class1 = x_train[np.where(y_train == 0)]\n",
    "class2 = x_train[np.where(y_train == 1)]\n",
    "\n",
    "# Calculate average of each class\n",
    "m1 = np.mean(class1, axis=0)\n",
    "m2 = np.mean(class2, axis=0)"
   ]
  },
  {
   "cell_type": "code",
   "execution_count": 5,
   "metadata": {},
   "outputs": [
    {
     "name": "stdout",
     "output_type": "stream",
     "text": [
      "mean vector of class 1: [2.47107265 1.97913899] mean vector of class 2: [1.82380675 3.03051876]\n"
     ]
    }
   ],
   "source": [
    "print(f\"mean vector of class 1: {m1}\", f\"mean vector of class 2: {m2}\")"
   ]
  },
  {
   "cell_type": "markdown",
   "metadata": {},
   "source": [
    "## 2. Compute the Within-class scatter matrix SW"
   ]
  },
  {
   "cell_type": "code",
   "execution_count": 6,
   "metadata": {},
   "outputs": [
    {
     "data": {
      "text/plain": [
       "array([[140.40036447,  -5.30881553],\n",
       "       [ -5.30881553, 138.14297637]])"
      ]
     },
     "execution_count": 6,
     "metadata": {},
     "output_type": "execute_result"
    }
   ],
   "source": [
    "## Your code HERE\n",
    "# Use the formula to calculate sw\n",
    "sw1 = (class1 - m1).T.dot(class1 - m1)\n",
    "sw2 = (class2 - m2).T.dot(class2 - m2)\n",
    "sw = sw1 + sw2\n",
    "sw"
   ]
  },
  {
   "cell_type": "code",
   "execution_count": 7,
   "metadata": {},
   "outputs": [
    {
     "name": "stdout",
     "output_type": "stream",
     "text": [
      "Within-class scatter matrix SW: [[140.40036447  -5.30881553]\n",
      " [ -5.30881553 138.14297637]]\n"
     ]
    }
   ],
   "source": [
    "assert sw.shape == (2,2)\n",
    "print(f\"Within-class scatter matrix SW: {sw}\")"
   ]
  },
  {
   "cell_type": "markdown",
   "metadata": {},
   "source": [
    "## 3.  Compute the Between-class scatter matrix SB"
   ]
  },
  {
   "cell_type": "code",
   "execution_count": 8,
   "metadata": {},
   "outputs": [
    {
     "data": {
      "text/plain": [
       "array([[ 0.41895314, -0.68052227],\n",
       "       [-0.68052227,  1.10539942]])"
      ]
     },
     "execution_count": 8,
     "metadata": {},
     "output_type": "execute_result"
    }
   ],
   "source": [
    "## Your code HERE\n",
    "# Use the formula to calculate sb\n",
    "sb = np.outer((m1 - m2), (m1 - m2).T)  # outer production \n",
    "sb"
   ]
  },
  {
   "cell_type": "code",
   "execution_count": 9,
   "metadata": {},
   "outputs": [
    {
     "name": "stdout",
     "output_type": "stream",
     "text": [
      "Between-class scatter matrix SB: [[ 0.41895314 -0.68052227]\n",
      " [-0.68052227  1.10539942]]\n"
     ]
    }
   ],
   "source": [
    "assert sb.shape == (2,2)\n",
    "print(f\"Between-class scatter matrix SB: {sb}\")"
   ]
  },
  {
   "cell_type": "markdown",
   "metadata": {},
   "source": [
    "## 4. Compute the Fisher’s linear discriminant"
   ]
  },
  {
   "cell_type": "code",
   "execution_count": 10,
   "metadata": {},
   "outputs": [
    {
     "data": {
      "text/plain": [
       "array([-0.50266214,  0.86448295])"
      ]
     },
     "execution_count": 10,
     "metadata": {},
     "output_type": "execute_result"
    }
   ],
   "source": [
    "## Your code HERE\n",
    "# w is proportional to (sw^(-1))(m1-m2), norm to get unit vector.\n",
    "inv_sw = np.linalg.inv(sw)\n",
    "w = (inv_sw.dot(m2 - m1))\n",
    "w /= np.linalg.norm(w)\n",
    "w"
   ]
  },
  {
   "cell_type": "code",
   "execution_count": 11,
   "metadata": {},
   "outputs": [
    {
     "name": "stdout",
     "output_type": "stream",
     "text": [
      " Fisher’s linear discriminant: [-0.50266214  0.86448295]\n"
     ]
    }
   ],
   "source": [
    "assert w.shape == (2,)\n",
    "print(f\" Fisher’s linear discriminant: {w}\")"
   ]
  },
  {
   "cell_type": "markdown",
   "metadata": {},
   "source": [
    "## 5. Project the test data by linear discriminant and get the class prediction by nearest-neighbor rule.  Calculate the accuracy score \n",
    "you can use `accuracy_score` function from `sklearn.metric.accuracy_score`"
   ]
  },
  {
   "cell_type": "code",
   "execution_count": 12,
   "metadata": {},
   "outputs": [],
   "source": [
    "# calculate the Euclidean distance between two vectors\n",
    "from math import sqrt\n",
    "def euclidean_distance(row1, row2):\n",
    "    distance = 0.0\n",
    "    for i in range(len(row1)):\n",
    "        distance += (row1[i] - row2[i])**2\n",
    "    return sqrt(distance)\n",
    "\n",
    "# Locate the most similar neighbors\n",
    "def get_neighbors(train, test_row, num_neighbors):\n",
    "    distances = list()\n",
    "    for i, train_row in enumerate(train):\n",
    "        dist = euclidean_distance(test_row, train_row)\n",
    "        distances.append((i, train_row, dist))\n",
    "        distances.sort(key=lambda tup: tup[2])\n",
    "    neighbors = list()\n",
    "    for i in range(num_neighbors):\n",
    "        neighbors.append(distances[i][0])    \n",
    "    return neighbors\n",
    "\n",
    " # Make a classification prediction with neighbors\n",
    "def predict_classification(train, test_row, num_neighbors):\n",
    "    neighbors = get_neighbors(train, test_row, num_neighbors)\n",
    "    output_values = [y_train[row] for row in neighbors]\n",
    "    prediction = max(set(output_values), key=output_values.count)\n",
    "    return prediction"
   ]
  },
  {
   "cell_type": "code",
   "execution_count": 13,
   "metadata": {},
   "outputs": [],
   "source": [
    "# Test all testing data\n",
    "y_pred = np.empty(len(x_test))\n",
    "for i in range(len(x_test)):\n",
    "    prediction = predict_classification(x_train, x_test[i], 5)\n",
    "    y_pred[i] = prediction"
   ]
  },
  {
   "cell_type": "code",
   "execution_count": 14,
   "metadata": {},
   "outputs": [
    {
     "data": {
      "text/plain": [
       "0.912"
      ]
     },
     "execution_count": 14,
     "metadata": {},
     "output_type": "execute_result"
    }
   ],
   "source": [
    "from sklearn.metrics import accuracy_score\n",
    "acc = accuracy_score(y_test, y_pred)\n",
    "acc"
   ]
  },
  {
   "cell_type": "code",
   "execution_count": 15,
   "metadata": {},
   "outputs": [
    {
     "name": "stdout",
     "output_type": "stream",
     "text": [
      "Accuracy of test-set 0.912\n"
     ]
    }
   ],
   "source": [
    "print(f\"Accuracy of test-set {acc}\")"
   ]
  },
  {
   "cell_type": "markdown",
   "metadata": {},
   "source": [
    "### Neasrest number of points record\n",
    "nearest 1 points, acc = 0.872  \n",
    "nearest 3 points, acc = 0.804  \n",
    "nearest 5 points, acc = 0.912  \n",
    "nearest 7 points, acc = 0.896\n",
    "\n",
    "Thus, finally choose neast 5 points."
   ]
  },
  {
   "cell_type": "markdown",
   "metadata": {},
   "source": [
    "## 6. Plot the 1) best projection line on the training data and show the slope and intercept on the title (you can choose any value of intercept for better visualization) 2) colorize the data with each class 3) project all data points on your projection line. Your result should look like [this image](https://i.imgur.com/tubMQpw.jpg)"
   ]
  },
  {
   "cell_type": "code",
   "execution_count": 16,
   "metadata": {},
   "outputs": [
    {
     "name": "stdout",
     "output_type": "stream",
     "text": [
      "slope =  -1.7198091369913981\n",
      "intercept =  0.8644829487123293\n"
     ]
    },
    {
     "data": {
      "text/plain": [
       "Text(0.5, 1.0, 'Project Line w = -1.7198091369913981, b = 0.8644829487123293')"
      ]
     },
     "execution_count": 16,
     "metadata": {},
     "output_type": "execute_result"
    },
    {
     "data": {
      "image/png": "[encoded data removed]",
      "text/plain": [
       "<Figure size 432x288 with 1 Axes>"
      ]
     },
     "metadata": {
      "needs_background": "light"
     },
     "output_type": "display_data"
    }
   ],
   "source": [
    "import matplotlib.pyplot as plt\n",
    "plt.plot([-5*w[0], 5*w[0]], [-5*w[1], 5*w[1]])\n",
    "plt.plot(m1[0], m1[1], 'cx')\n",
    "plt.plot(m2[0], m2[1], 'yx')\n",
    "plt.gca().axis('square')\n",
    "\n",
    "# Project data point on it\n",
    "r = w.reshape(2,)\n",
    "n2 = np.linalg.norm(r)**2\n",
    "for pt in class1:\n",
    "    prj = r * r.dot(pt) / n2\n",
    "    plt.plot([prj[0], pt[0]], [prj[1], pt[1]], 'b.:', alpha=0.2)\n",
    "for pt in class2:\n",
    "    prj = r * r.dot(pt) / n2\n",
    "    plt.plot([prj[0], pt[0]], [prj[1], pt[1]], 'r.:', alpha=0.2)\n",
    "\n",
    "slope = w[1] / w[0]\n",
    "print('slope = ', slope)\n",
    "intercept = 0-slope*(-w[0])\n",
    "print('intercept = ', intercept)\n",
    "\n",
    "plt.plot(figsize=(15,15))\n",
    "plt.xlim([-2,5])\n",
    "plt.ylim([-1,5])\n",
    "plt.title('Project Line w = {}, b = {}'.format(slope, intercept),\n",
    "         fontsize = 8)"
   ]
  }
 ],
 "metadata": {
  "kernelspec": {
   "display_name": "Python 3",
   "language": "python",
   "name": "python3"
  },
  "language_info": {
   "codemirror_mode": {
    "name": "ipython",
    "version": 3
   },
   "file_extension": ".py",
   "mimetype": "text/x-python",
   "name": "python",
   "nbconvert_exporter": "python",
   "pygments_lexer": "ipython3",
   "version": "3.8.8"
  }
 },
 "nbformat": 4,
 "nbformat_minor": 4
}
